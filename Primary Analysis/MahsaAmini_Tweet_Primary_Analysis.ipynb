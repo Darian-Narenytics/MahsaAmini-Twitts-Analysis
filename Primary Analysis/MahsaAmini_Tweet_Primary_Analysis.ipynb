{
 "cells": [
  {
   "cell_type": "markdown",
   "id": "feff89a2",
   "metadata": {},
   "source": [
    "The data for this analysis collected on October 2nd, 2022 at 6.p.m Vancouver time."
   ]
  },
  {
   "cell_type": "markdown",
   "id": "1fd5f7df",
   "metadata": {},
   "source": [
    "This notebook, is the second stage of social media analysis for tweets related to Mahsa Amini which is one of the greates trends in twitter.\n",
    "In this stage, we want to do the followings:\n",
    "* find the ten most popular words with and without stopwords\n",
    "* find the ten most popular hashtags\n",
    "* find the ten most frequently mentioned usernames\n",
    "* find the 3 most common source of tweets\n",
    "* create a line to show the time trend of tweet counts\n",
    "* find the three most influential tweets\n",
    "* find the most vocal authors on the keyword\n",
    "* find the 3 most influential authors"
   ]
  },
  {
   "cell_type": "code",
   "execution_count": null,
   "id": "d111e355",
   "metadata": {},
   "outputs": [],
   "source": []
  }
 ],
 "metadata": {
  "kernelspec": {
   "display_name": "Python 3 (ipykernel)",
   "language": "python",
   "name": "python3"
  },
  "language_info": {
   "codemirror_mode": {
    "name": "ipython",
    "version": 3
   },
   "file_extension": ".py",
   "mimetype": "text/x-python",
   "name": "python",
   "nbconvert_exporter": "python",
   "pygments_lexer": "ipython3",
   "version": "3.9.12"
  }
 },
 "nbformat": 4,
 "nbformat_minor": 5
}
